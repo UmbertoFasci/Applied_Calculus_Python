{
 "cells": [
  {
   "cell_type": "code",
   "execution_count": 1,
   "metadata": {},
   "outputs": [],
   "source": [
    "from sympy import *"
   ]
  },
  {
   "cell_type": "markdown",
   "metadata": {},
   "source": [
    "# Symbols\n",
    "\n",
    "To use variables as unknowns, define them with symbols().\n",
    "symbols() can be used to define multiple variables at once, in a string separated by spaces or commas.\n",
    "Like Python variables, symbols may have names longer than one character."
   ]
  },
  {
   "cell_type": "code",
   "execution_count": 2,
   "metadata": {},
   "outputs": [],
   "source": [
    "# Defining a single symbol\n",
    "x = symbols('x')\n",
    "\n",
    "# Defining three symbols at once\n",
    "a, b, c = symbols('a, b, c')\n",
    "\n",
    "# Defining a multi-character symbol\n",
    "tau = symbols('tau')"
   ]
  },
  {
   "cell_type": "code",
   "execution_count": 3,
   "metadata": {},
   "outputs": [
    {
     "data": {
      "text/latex": [
       "$\\displaystyle x + 1$"
      ],
      "text/plain": [
       "x + 1"
      ]
     },
     "execution_count": 3,
     "metadata": {},
     "output_type": "execute_result"
    }
   ],
   "source": [
    "x + 1"
   ]
  },
  {
   "cell_type": "markdown",
   "metadata": {},
   "source": [
    "As we can see above, the unknown variable is clearly defined as an object."
   ]
  },
  {
   "cell_type": "markdown",
   "metadata": {},
   "source": [
    "# Substitution\n",
    "\n",
    "Suppose we want to substitute a value for the variable x in an expression, x = 5.\n",
    "Typing x = 5 will just redefine the Python variable, rather than changing the expression.\n",
    "Instead, we must use `subs(x,5)`"
   ]
  },
  {
   "cell_type": "code",
   "execution_count": 4,
   "metadata": {},
   "outputs": [
    {
     "data": {
      "text/latex": [
       "$\\displaystyle 9$"
      ],
      "text/plain": [
       "9"
      ]
     },
     "execution_count": 4,
     "metadata": {},
     "output_type": "execute_result"
    }
   ],
   "source": [
    "# Define the symbol\n",
    "x = symbols('x')\n",
    "\n",
    "# Define an expression\n",
    "expression = 2*x - 1\n",
    "\n",
    "# Substitute 5 for x\n",
    "expression.subs(x, 5)"
   ]
  },
  {
   "cell_type": "markdown",
   "metadata": {},
   "source": [
    "Note that subs() can also be used to substitute other symbols or expressions for a certain symbol, not only numerical values."
   ]
  },
  {
   "cell_type": "markdown",
   "metadata": {},
   "source": [
    "# Rational Numbers\n",
    "\n",
    "The other feature of symbolic computation is retaining exact values.\n",
    "In Python, division with / results in either an integer or a floating-point number. If the quotient happens to be a non-terminating decimal, it is truncated.\n",
    "\n",
    "For example, $\\frac{1}{3} = 0.\\overline{3}$ is truncated to $0.3333333333333333$ in Python."
   ]
  },
  {
   "cell_type": "code",
   "execution_count": 5,
   "metadata": {},
   "outputs": [
    {
     "data": {
      "text/plain": [
       "0.3333333333333333"
      ]
     },
     "execution_count": 5,
     "metadata": {},
     "output_type": "execute_result"
    }
   ],
   "source": [
    "# The quotient 1/3 is truncated\n",
    "1/3"
   ]
  },
  {
   "cell_type": "markdown",
   "metadata": {},
   "source": [
    "SymPy keeps the same meaning for all arithmetic operators from Python. This includes division (/) and floor division (//).\n",
    "To keep a rational number $\\frac{a}{b}$ represented as its exact value (equivalent to writing it as a fraction), use `Rational(a,b)` from SymPy."
   ]
  },
  {
   "cell_type": "code",
   "execution_count": 6,
   "metadata": {},
   "outputs": [
    {
     "data": {
      "text/latex": [
       "$\\displaystyle \\frac{1}{3}$"
      ],
      "text/plain": [
       "1/3"
      ]
     },
     "execution_count": 6,
     "metadata": {},
     "output_type": "execute_result"
    }
   ],
   "source": [
    "# 1/3 is kept as a rational number\n",
    "Rational(1, 3)"
   ]
  },
  {
   "cell_type": "markdown",
   "metadata": {},
   "source": [
    "# Evaluating\n",
    "\n",
    "When solving problems, we often want a decimal approximation of the answer. To convert an expression to a floating point number with SymPy, use `evalf()`.\n",
    "\n",
    "For example, since $\\sqrt{2}$ is an irrational number, it will always be expresses as sqrt(2) in SymPy.\n",
    "\n",
    "To find a decimal approximation for $\\sqrt{2}$, we could use the following code. "
   ]
  },
  {
   "cell_type": "code",
   "execution_count": 7,
   "metadata": {},
   "outputs": [
    {
     "data": {
      "text/latex": [
       "$\\displaystyle 1.4142135623731$"
      ],
      "text/plain": [
       "1.41421356237310"
      ]
     },
     "execution_count": 7,
     "metadata": {},
     "output_type": "execute_result"
    }
   ],
   "source": [
    "expr = sqrt(2)\n",
    "expr.evalf()"
   ]
  }
 ],
 "metadata": {
  "kernelspec": {
   "display_name": "Python 3.10.6 ('calculus')",
   "language": "python",
   "name": "python3"
  },
  "language_info": {
   "codemirror_mode": {
    "name": "ipython",
    "version": 3
   },
   "file_extension": ".py",
   "mimetype": "text/x-python",
   "name": "python",
   "nbconvert_exporter": "python",
   "pygments_lexer": "ipython3",
   "version": "3.10.6"
  },
  "orig_nbformat": 4,
  "vscode": {
   "interpreter": {
    "hash": "e54868e3dffdc1d6a9c112022b51bacce60dd3ce2a7fa53a51980e128f921ea3"
   }
  }
 },
 "nbformat": 4,
 "nbformat_minor": 2
}
